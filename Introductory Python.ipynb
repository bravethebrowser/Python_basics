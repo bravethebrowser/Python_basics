var1 = 'I am a biologist'
print(var1)
#Numeric In Python

##Numeric in python
#Addition
num_1 = 2
num_2 = 4
sum_1_2 = num_1 + num_2
print(sum_1_2)
print (type(num_2))
print (type(num_1))
# Complex Numbers
comp_a = complex(2,3)
print(comp_a)

comp_b = 2+3j
print (comp_b)

3>2
2==3
a = 3
b = 5
c = 7
d = 0
e = 3
a > d
Comparision of value
a == e

d != 0

## Power Value
a = 2
pow = 4
power_result = a ** pow
power_result
## STRING in python
stores charavher between ' ' or ""
# Storing string in variable

f_s = "lets study 'string' in class"
s_s = 'lets studyabout "string" manipulation methods'
print(f_s)
print(s_s)
num_a = 23
num_b = '23'

print(type(num_a))
print(type(num_b))
# Type Casting
num_a = 23

num_a_as_str = str(num_a)
print(num_a)
print(type(num_a))
print(num_a_as_str)
print(type(num_a_as_str))
num_string = '45'
print(num_string)
print(type(num_string))

num_string_as_num = int(num_string)
print(num_string_as_num)
print(type(num_string_as_num))
#STRING PROCESSING
Protein_seq1 = 'VLSPADKTNVK'

# len(); alllows us to calculate length of the string
Protein_seq1_len = len(Protein_seq1)
Protein_seq1_len
# Splicing.
# AA at position 9
Protein_seq1[8]
Protein_seq1[0]
Protein_seq1[len(Protein_seq1)-1]
# splice a sub part of a string

# variable name[start_index:(end_index+1)]
Protein_seq1[1:(5+1)]
#jumping

Protein_seq1[1:(5+1):1]
Protein_seq1[1:(5+1):2]
Protein_seq1[1:(5+1):3]
Protein_seq1[:(5+1)]
Protein_seq1[(5+1):]
Protein_seq1[2:]
# Protein_seq1[:] = Protein_seq1
# Flippin Sequence horizontally

Protein_seq1 = 'VLSPADKTNVK'
Protein_seq1[::-1]

# Concatenation

DNA_fragment1 = 'AATCG'
DNA_fragment2 = 'TTGGC'

Full_DNA_seq = DNA_fragment1 + DNA_fragment2
Full_DNA_seq
# Concatenating a string and a integer
# Repeat disorder. ALS. (GGGCC)4

repeat_sequence = 'GGGCC'
repeat_length = 4

Actual_repeat_sequence = '(' + repeat_sequence + ')' + str(repeat_length)
Actual_repeat_sequence

#Concatenating String: Second approach
#string should be in curly bracket

Actual_repeat_sequence = f"({repeat_sequence}) {str(repeat_length)}"
Actual_repeat_sequence
#Case Change in Python

DNA_upper = 'ATTGGCCCG'
DNA_lower = 'attggca'
#. lower()
DNA_upper_to_lower = DNA_upper.lower()
print(f"DNA_upper is '{DNA_upper}' and after applying .lower method() it became '{DNA_upper_to_lower}'")
#. lower()
DNA_lower_to_upper = DNA_lower.upper()
print(f"DNA_lowe is '{DNA_lower}' and after applying .upper method() it became '{DNA_lower_to_upper}'")

print(f'DNA_lower is "{DNA_lower}" and after applying .upper method() it became "{DNA_lower_to_upper}"')

# Title Mode:   .title()
Simulation_name = 'molecular dynamics simulation'
Simulation_name_formatted = Simulation_name.title()
print(f'Simulation name before: {Simulation_name}, after applying.title(), it became: {Simulation_name_formatted}')
# Sentence mode: # .capitalize()

to_capitalize = 'i am enjoying python programming'
to_capitalize_format = to_capitalize.capitalize()
print(f'before format: {to_capitalize}, after applying.capitalize(), it became: {to_capitalize_format}')
#REPLACE METHOD
Protein_WT = 'VLSPADKTNWWWYY'
mutant_1 = Protein_WT.replace('W','M')
print(mutant_1)
mutant_2 = Protein_WT.replace('W','M', 1) #you can use for various position
print(mutant_2)
general_example = 'I am enjoying python and i will use it to analyze biological data'
general_example_modified = general_example.replace('analyze','analyse')
print(general_example_modified)
## Find and Count
Protein = 'VLSPADKTNWWWYY'

# .find()

proline_occurence = Protein.find('P')
proline_occurence
Protein = 'VLSPADKTNVWWWYY'

# .find()

tryptophan_occurence = Protein.find('W')
tryptophan_occurence
# .count()
tryptophan_count = Protein.count('W')
tryptophan_count
# Split and join
#.split
string_to_split = 'Biology is interesting, I am using python to analyze biological data'


splitting_string_attempt1 = string_to_split.split()
print(splitting_string_attempt1)
#result will be a string format

splitting_string_attempt2 = string_to_split.split(',')
print(splitting_string_attempt2)
#.join()

splitting_string_attempt1_recombine = ' '.join(splitting_string_attempt1)
print(splitting_string_attempt1_recombine)

splitting_string_attempt2_recombine = ';'.join(splitting_string_attempt2)
print(splitting_string_attempt2_recombine)

## Strip method activity
temp_1 = 'Python'
temp_2 = " Python "
print(temp_1)
print(temp_2)
temp_1
temp_2
# replace
temp_2.replace(" ", '')
temp_2 = " Python is a cool language "
temp_2
temp_2.replace(" ", '')
# strip
temp_2_cleaned = temp_2.strip()
temp_2_cleaned
temp_2_cleaned_r = temp_2.rstrip()
temp_2_cleaned_r
temp_2_cleaned_l = temp_2.lstrip()
temp_2_cleaned_l
temp_3 = ";Python is a cool language; it is fun.;"
temp_3.strip(';')
# IN CLASS ACTIVITIES
## Actvity 1
DNA = 'GTATAGATTTGATGGCCATGCGC'

# 5' to 3'
# to find complement we can aplly principle of complementation where A base pairs with T and G with C
#after finding complement we can find reverse complement bu flipping the string horizontally

seq = DNA.replace('A', 't')
seq = seq.replace('T', 'a')
seq = seq.replace('C', 'g')
seq = seq.replace('G', 'c')

seq = seq.upper()
seq = seq[::-1]
seq
## Activity: 2
count_G = DNA.count('G')
count_C = DNA.count('C')

count_GC = count_G + count_C
total_length_DNA = len(DNA)

GC_content = round((count_GC / total_length_DNA)*100, 2)
print(f"GC_content of this DNA fragmenti is (GC_content)")
# Assignment
full_seq="ATGCGATACGTTAGCATGCTAGCTACGATCGTAGCATGCGTTAGCTAGGATGCTAGCGTAGTCTAACGATCGTTAGCTAACGCTAGCTAGCTAGCGATC"
exon_1 = full_seq[:25]
exon_2 = full_seq[40:60]
exon_3 = full_seq[75:]

coding_region=exon_1+exon_2+exon_3
print(len(coding_region))
print(coding_region)

# File Analysis
# Download FASTA file and read its content using python
