{
 "cells": [
  {
   "cell_type": "code",
   "execution_count": null,
   "metadata": {
    "colab": {
     "base_uri": "https://localhost:8080/"
    },
    "executionInfo": {
     "elapsed": 11,
     "status": "ok",
     "timestamp": 1746208422938,
     "user": {
      "displayName": "Damani Mohammed taqi",
      "userId": "09070127203467176729"
     },
     "user_tz": -330
    },
    "id": "Zv7C-3fdHvOi",
    "outputId": "5e4d64ae-62c1-4571-e8f8-4b991978d8ac"
   },
   "outputs": [
    {
     "name": "stdout",
     "output_type": "stream",
     "text": [
      "I am a biologist\n"
     ]
    }
   ],
   "source": [
    "var1 = 'I am a biologist'\n",
    "print(var1)"
   ]
  },
  {
   "cell_type": "markdown",
   "metadata": {
    "id": "UxwFkq_UxJPC"
   },
   "source": [
    "#Numeric In Python\n"
   ]
  },
  {
   "cell_type": "code",
   "execution_count": null,
   "metadata": {
    "colab": {
     "base_uri": "https://localhost:8080/"
    },
    "executionInfo": {
     "elapsed": 88,
     "status": "ok",
     "timestamp": 1746511333119,
     "user": {
      "displayName": "Damani Mohammed taqi",
      "userId": "09070127203467176729"
     },
     "user_tz": -330
    },
    "id": "wNv_1fzoJ4MP",
    "outputId": "b78f1771-f6a1-40ed-e360-922862179f41"
   },
   "outputs": [
    {
     "name": "stdout",
     "output_type": "stream",
     "text": [
      "6\n",
      "<class 'int'>\n",
      "<class 'int'>\n"
     ]
    }
   ],
   "source": [
    "##Numeric in python\n",
    "#Addition\n",
    "\n",
    "num_1 = 2\n",
    "num_2 = 4\n",
    "sum_1_2 = num_1 + num_2\n",
    "print(sum_1_2)\n",
    "print (type(num_2))\n",
    "print (type(num_1))"
   ]
  },
  {
   "cell_type": "code",
   "execution_count": null,
   "metadata": {
    "colab": {
     "base_uri": "https://localhost:8080/"
    },
    "executionInfo": {
     "elapsed": 21,
     "status": "ok",
     "timestamp": 1746260629006,
     "user": {
      "displayName": "Damani Mohammed taqi",
      "userId": "09070127203467176729"
     },
     "user_tz": -330
    },
    "id": "cNzOMpgsOIO5",
    "outputId": "03ad77c6-056a-4736-c661-6756d6e1dc70"
   },
   "outputs": [
    {
     "name": "stdout",
     "output_type": "stream",
     "text": [
      "(2+3j)\n"
     ]
    }
   ],
   "source": [
    "# Complex Numbers\n",
    "comp_a = complex(2,3)\n",
    "print(comp_a)\n"
   ]
  },
  {
   "cell_type": "code",
   "execution_count": null,
   "metadata": {
    "id": "XC0bxga_PpRM"
   },
   "outputs": [],
   "source": [
    "comp_b = 2+3j"
   ]
  },
  {
   "cell_type": "code",
   "execution_count": null,
   "metadata": {
    "colab": {
     "base_uri": "https://localhost:8080/"
    },
    "executionInfo": {
     "elapsed": 16,
     "status": "ok",
     "timestamp": 1746260682434,
     "user": {
      "displayName": "Damani Mohammed taqi",
      "userId": "09070127203467176729"
     },
     "user_tz": -330
    },
    "id": "60GNhHWCPx6Z",
    "outputId": "b9f631b4-dec0-4fa5-8deb-a8f0981b04d9"
   },
   "outputs": [
    {
     "name": "stdout",
     "output_type": "stream",
     "text": [
      "(2+3j)\n"
     ]
    }
   ],
   "source": [
    "print (comp_b)\n"
   ]
  },
  {
   "cell_type": "code",
   "execution_count": null,
   "metadata": {
    "colab": {
     "base_uri": "https://localhost:8080/"
    },
    "executionInfo": {
     "elapsed": 16,
     "status": "ok",
     "timestamp": 1746260696378,
     "user": {
      "displayName": "Damani Mohammed taqi",
      "userId": "09070127203467176729"
     },
     "user_tz": -330
    },
    "id": "79HIwHMJP2Ug",
    "outputId": "12df5ed5-feb8-40c7-f031-8bb7422a46b7"
   },
   "outputs": [
    {
     "data": {
      "text/plain": [
       "True"
      ]
     },
     "execution_count": 5,
     "metadata": {},
     "output_type": "execute_result"
    }
   ],
   "source": [
    "3>2"
   ]
  },
  {
   "cell_type": "code",
   "execution_count": null,
   "metadata": {
    "colab": {
     "base_uri": "https://localhost:8080/"
    },
    "executionInfo": {
     "elapsed": 279,
     "status": "ok",
     "timestamp": 1746260709737,
     "user": {
      "displayName": "Damani Mohammed taqi",
      "userId": "09070127203467176729"
     },
     "user_tz": -330
    },
    "id": "N59I3sUzP5ug",
    "outputId": "2b1c1766-d0ff-48b6-b5d6-b2791ac4db06"
   },
   "outputs": [
    {
     "data": {
      "text/plain": [
       "False"
      ]
     },
     "execution_count": 6,
     "metadata": {},
     "output_type": "execute_result"
    }
   ],
   "source": [
    "2==3"
   ]
  },
  {
   "cell_type": "code",
   "execution_count": null,
   "metadata": {
    "id": "hAhtryQMP86_"
   },
   "outputs": [],
   "source": [
    "a = 3\n",
    "b = 5\n",
    "c = 7\n",
    "d = 0\n",
    "e = 3"
   ]
  },
  {
   "cell_type": "code",
   "execution_count": null,
   "metadata": {
    "colab": {
     "base_uri": "https://localhost:8080/"
    },
    "executionInfo": {
     "elapsed": 88,
     "status": "ok",
     "timestamp": 1746261001407,
     "user": {
      "displayName": "Damani Mohammed taqi",
      "userId": "09070127203467176729"
     },
     "user_tz": -330
    },
    "id": "Yj9LhAPsQ8rO",
    "outputId": "f9687e41-efed-4e57-d49a-bc7d02788db9"
   },
   "outputs": [
    {
     "data": {
      "text/plain": [
       "True"
      ]
     },
     "execution_count": 8,
     "metadata": {},
     "output_type": "execute_result"
    }
   ],
   "source": [
    "a > d"
   ]
  },
  {
   "cell_type": "markdown",
   "metadata": {
    "id": "OIPzDTWMRNxO"
   },
   "source": [
    "Comparision of value"
   ]
  },
  {
   "cell_type": "code",
   "execution_count": null,
   "metadata": {
    "colab": {
     "base_uri": "https://localhost:8080/"
    },
    "executionInfo": {
     "elapsed": 7,
     "status": "ok",
     "timestamp": 1746261029344,
     "user": {
      "displayName": "Damani Mohammed taqi",
      "userId": "09070127203467176729"
     },
     "user_tz": -330
    },
    "id": "TjCpFPy3RELV",
    "outputId": "a0c393bc-dc0c-42de-994c-4db572067c8c"
   },
   "outputs": [
    {
     "data": {
      "text/plain": [
       "True"
      ]
     },
     "execution_count": 9,
     "metadata": {},
     "output_type": "execute_result"
    }
   ],
   "source": [
    "a == e\n"
   ]
  },
  {
   "cell_type": "code",
   "execution_count": null,
   "metadata": {
    "colab": {
     "base_uri": "https://localhost:8080/"
    },
    "executionInfo": {
     "elapsed": 53,
     "status": "ok",
     "timestamp": 1746261098894,
     "user": {
      "displayName": "Damani Mohammed taqi",
      "userId": "09070127203467176729"
     },
     "user_tz": -330
    },
    "id": "C-np8UUWRLAV",
    "outputId": "386dc6c9-cb0e-4b1b-9094-c88479eff234"
   },
   "outputs": [
    {
     "data": {
      "text/plain": [
       "False"
      ]
     },
     "execution_count": 10,
     "metadata": {},
     "output_type": "execute_result"
    }
   ],
   "source": [
    "d != 0\n"
   ]
  },
  {
   "cell_type": "markdown",
   "metadata": {
    "id": "BDP9Mdt8SHYF"
   },
   "source": [
    "## Power Value"
   ]
  },
  {
   "cell_type": "code",
   "execution_count": null,
   "metadata": {
    "colab": {
     "base_uri": "https://localhost:8080/"
    },
    "executionInfo": {
     "elapsed": 9,
     "status": "ok",
     "timestamp": 1746261248407,
     "user": {
      "displayName": "Damani Mohammed taqi",
      "userId": "09070127203467176729"
     },
     "user_tz": -330
    },
    "id": "8dSLCl7qRb_C",
    "outputId": "18b08d6e-3fab-4425-ebd5-9166cc5a4157"
   },
   "outputs": [
    {
     "data": {
      "text/plain": [
       "16"
      ]
     },
     "execution_count": 16,
     "metadata": {},
     "output_type": "execute_result"
    }
   ],
   "source": [
    "a = 2\n",
    "pow = 4\n",
    "power_result = a ** pow\n",
    "power_result"
   ]
  },
  {
   "cell_type": "markdown",
   "metadata": {
    "id": "Cw_2PphCSQiR"
   },
   "source": [
    "## STRING in python\n",
    "stores charavher between ' ' or \"\""
   ]
  },
  {
   "cell_type": "code",
   "execution_count": null,
   "metadata": {
    "id": "6ctAdAsCRs9w"
   },
   "outputs": [],
   "source": [
    "# Storing string in variable\n"
   ]
  },
  {
   "cell_type": "code",
   "execution_count": null,
   "metadata": {
    "colab": {
     "base_uri": "https://localhost:8080/"
    },
    "executionInfo": {
     "elapsed": 42,
     "status": "ok",
     "timestamp": 1746261728498,
     "user": {
      "displayName": "Damani Mohammed taqi",
      "userId": "09070127203467176729"
     },
     "user_tz": -330
    },
    "id": "1926_gH0Su0H",
    "outputId": "f189e470-0e18-45be-c190-071e994bd6e3"
   },
   "outputs": [
    {
     "name": "stdout",
     "output_type": "stream",
     "text": [
      "lets study 'string' in class\n",
      "lets studyabout \"string\" manipulation methods\n"
     ]
    }
   ],
   "source": [
    "f_s = \"lets study 'string' in class\"\n",
    "s_s = 'lets studyabout \"string\" manipulation methods'\n",
    "print(f_s)\n",
    "print(s_s)"
   ]
  },
  {
   "cell_type": "code",
   "execution_count": null,
   "metadata": {
    "colab": {
     "base_uri": "https://localhost:8080/"
    },
    "executionInfo": {
     "elapsed": 10,
     "status": "ok",
     "timestamp": 1746262549787,
     "user": {
      "displayName": "Damani Mohammed taqi",
      "userId": "09070127203467176729"
     },
     "user_tz": -330
    },
    "id": "eI9TSqfDTWJL",
    "outputId": "c97b0da3-df03-4302-9813-dbf5ab4ceed9"
   },
   "outputs": [
    {
     "name": "stdout",
     "output_type": "stream",
     "text": [
      "<class 'int'>\n",
      "<class 'str'>\n"
     ]
    }
   ],
   "source": [
    "num_a = 23\n",
    "num_b = '23'\n",
    "\n",
    "print(type(num_a))\n",
    "print(type(num_b))"
   ]
  },
  {
   "cell_type": "code",
   "execution_count": null,
   "metadata": {
    "colab": {
     "base_uri": "https://localhost:8080/"
    },
    "executionInfo": {
     "elapsed": 11,
     "status": "ok",
     "timestamp": 1746262759638,
     "user": {
      "displayName": "Damani Mohammed taqi",
      "userId": "09070127203467176729"
     },
     "user_tz": -330
    },
    "id": "9sYc2kZ-W7dw",
    "outputId": "03f54c9f-7864-4833-fbac-d9321fb73235"
   },
   "outputs": [
    {
     "name": "stdout",
     "output_type": "stream",
     "text": [
      "23\n",
      "<class 'int'>\n",
      "23\n",
      "<class 'str'>\n"
     ]
    }
   ],
   "source": [
    "# Type Casting\n",
    "num_a = 23\n",
    "\n",
    "num_a_as_str = str(num_a)\n",
    "print(num_a)\n",
    "print(type(num_a))\n",
    "print(num_a_as_str)\n",
    "print(type(num_a_as_str))"
   ]
  },
  {
   "cell_type": "code",
   "execution_count": null,
   "metadata": {
    "colab": {
     "base_uri": "https://localhost:8080/"
    },
    "executionInfo": {
     "elapsed": 45,
     "status": "ok",
     "timestamp": 1746263216041,
     "user": {
      "displayName": "Damani Mohammed taqi",
      "userId": "09070127203467176729"
     },
     "user_tz": -330
    },
    "id": "3gqay999XMpX",
    "outputId": "95bcd511-2c2c-4c1a-b324-9eefac80b6de"
   },
   "outputs": [
    {
     "name": "stdout",
     "output_type": "stream",
     "text": [
      "45\n",
      "<class 'str'>\n",
      "45\n",
      "<class 'int'>\n"
     ]
    }
   ],
   "source": [
    "num_string = '45'\n",
    "print(num_string)\n",
    "print(type(num_string))\n",
    "\n",
    "num_string_as_num = int(num_string)\n",
    "print(num_string_as_num)\n",
    "print(type(num_string_as_num))"
   ]
  },
  {
   "cell_type": "markdown",
   "metadata": {
    "id": "nPpowXVTaBV6"
   },
   "source": [
    "#STRING PROCESSING"
   ]
  },
  {
   "cell_type": "code",
   "execution_count": 9,
   "metadata": {
    "colab": {
     "base_uri": "https://localhost:8080/"
    },
    "executionInfo": {
     "elapsed": 83,
     "status": "ok",
     "timestamp": 1746339327622,
     "user": {
      "displayName": "Damani Mohammed taqi",
      "userId": "09070127203467176729"
     },
     "user_tz": -330
    },
    "id": "1N3SmaO7Z21V",
    "outputId": "27400c44-7fa1-4031-f1b5-52a3d9ba26f7"
   },
   "outputs": [
    {
     "data": {
      "text/plain": [
       "11"
      ]
     },
     "execution_count": 9,
     "metadata": {},
     "output_type": "execute_result"
    }
   ],
   "source": [
    "Protein_seq1 = 'VLSPADKTNVK'\n",
    "\n",
    "# len(); alllows us to calculate length of the string\n",
    "Protein_seq1_len = len(Protein_seq1)\n",
    "Protein_seq1_len"
   ]
  },
  {
   "cell_type": "code",
   "execution_count": 10,
   "metadata": {
    "colab": {
     "base_uri": "https://localhost:8080/",
     "height": 35
    },
    "executionInfo": {
     "elapsed": 21,
     "status": "ok",
     "timestamp": 1746339949032,
     "user": {
      "displayName": "Damani Mohammed taqi",
      "userId": "09070127203467176729"
     },
     "user_tz": -330
    },
    "id": "bUEhiK1P9CHW",
    "outputId": "68ac124d-39dc-4632-a707-9e3dc6b5d7e3"
   },
   "outputs": [
    {
     "data": {
      "text/plain": [
       "'V'"
      ]
     },
     "execution_count": 10,
     "metadata": {},
     "output_type": "execute_result"
    }
   ],
   "source": [
    "# Splicing.\n",
    "# AA at position 9\n",
    "\n",
    "Protein_seq1[9]"
   ]
  },
  {
   "cell_type": "code",
   "execution_count": null,
   "metadata": {
    "colab": {
     "base_uri": "https://localhost:8080/",
     "height": 35
    },
    "executionInfo": {
     "elapsed": 24,
     "status": "ok",
     "timestamp": 1746339985980,
     "user": {
      "displayName": "Damani Mohammed taqi",
      "userId": "09070127203467176729"
     },
     "user_tz": -330
    },
    "id": "CzMD5_bQ-CCo",
    "outputId": "60bafd2a-d621-47e2-ba4a-e74617aa4746"
   },
   "outputs": [
    {
     "data": {
      "application/vnd.google.colaboratory.intrinsic+json": {
       "type": "string"
      },
      "text/plain": [
       "'V'"
      ]
     },
     "execution_count": 7,
     "metadata": {},
     "output_type": "execute_result"
    }
   ],
   "source": [
    "Protein_seq1[0]"
   ]
  },
  {
   "cell_type": "code",
   "execution_count": null,
   "metadata": {
    "colab": {
     "base_uri": "https://localhost:8080/",
     "height": 35
    },
    "executionInfo": {
     "elapsed": 26,
     "status": "ok",
     "timestamp": 1746340054241,
     "user": {
      "displayName": "Damani Mohammed taqi",
      "userId": "09070127203467176729"
     },
     "user_tz": -330
    },
    "id": "CCb9PPe6-XhW",
    "outputId": "e5933189-b6d6-4b65-aa13-ea95f4411253"
   },
   "outputs": [
    {
     "data": {
      "application/vnd.google.colaboratory.intrinsic+json": {
       "type": "string"
      },
      "text/plain": [
       "'K'"
      ]
     },
     "execution_count": 8,
     "metadata": {},
     "output_type": "execute_result"
    }
   ],
   "source": [
    "Protein_seq1[len(Protein_seq1)-1]"
   ]
  },
  {
   "cell_type": "code",
   "execution_count": null,
   "metadata": {
    "colab": {
     "base_uri": "https://localhost:8080/",
     "height": 35
    },
    "executionInfo": {
     "elapsed": 14,
     "status": "ok",
     "timestamp": 1746340363974,
     "user": {
      "displayName": "Damani Mohammed taqi",
      "userId": "09070127203467176729"
     },
     "user_tz": -330
    },
    "id": "mZvyTXbV-r45",
    "outputId": "a7f81e1e-bff1-4d17-ca61-243bdbc02fc3"
   },
   "outputs": [
    {
     "data": {
      "application/vnd.google.colaboratory.intrinsic+json": {
       "type": "string"
      },
      "text/plain": [
       "'LSPAD'"
      ]
     },
     "execution_count": 12,
     "metadata": {},
     "output_type": "execute_result"
    }
   ],
   "source": [
    "# splice a sub part of a string\n",
    "\n",
    "# variable name[start_index:(end_index+1)]\n",
    "Protein_seq1[1:(5+1)]"
   ]
  },
  {
   "cell_type": "code",
   "execution_count": null,
   "metadata": {
    "colab": {
     "base_uri": "https://localhost:8080/",
     "height": 35
    },
    "executionInfo": {
     "elapsed": 7,
     "status": "ok",
     "timestamp": 1746340569990,
     "user": {
      "displayName": "Damani Mohammed taqi",
      "userId": "09070127203467176729"
     },
     "user_tz": -330
    },
    "id": "oManHn5p_wEq",
    "outputId": "68a3a54d-a4d4-4621-c3e9-38e9ef1d0b52"
   },
   "outputs": [
    {
     "data": {
      "application/vnd.google.colaboratory.intrinsic+json": {
       "type": "string"
      },
      "text/plain": [
       "'LSPAD'"
      ]
     },
     "execution_count": 17,
     "metadata": {},
     "output_type": "execute_result"
    }
   ],
   "source": [
    "#jumping\n",
    "\n",
    "Protein_seq1[1:(5+1):1]"
   ]
  },
  {
   "cell_type": "code",
   "execution_count": null,
   "metadata": {
    "colab": {
     "base_uri": "https://localhost:8080/",
     "height": 35
    },
    "executionInfo": {
     "elapsed": 54,
     "status": "ok",
     "timestamp": 1746340497106,
     "user": {
      "displayName": "Damani Mohammed taqi",
      "userId": "09070127203467176729"
     },
     "user_tz": -330
    },
    "id": "F5hb_XECAQsp",
    "outputId": "08f26a15-5660-418f-f8b9-98bedfbfa36a"
   },
   "outputs": [
    {
     "data": {
      "application/vnd.google.colaboratory.intrinsic+json": {
       "type": "string"
      },
      "text/plain": [
       "'LPD'"
      ]
     },
     "execution_count": 14,
     "metadata": {},
     "output_type": "execute_result"
    }
   ],
   "source": [
    "Protein_seq1[1:(5+1):2]"
   ]
  },
  {
   "cell_type": "code",
   "execution_count": null,
   "metadata": {
    "colab": {
     "base_uri": "https://localhost:8080/",
     "height": 35
    },
    "executionInfo": {
     "elapsed": 94,
     "status": "ok",
     "timestamp": 1746340800012,
     "user": {
      "displayName": "Damani Mohammed taqi",
      "userId": "09070127203467176729"
     },
     "user_tz": -330
    },
    "id": "6ISvtcMkAUT6",
    "outputId": "6ada4503-2a5e-46eb-83f6-38fc481fe981"
   },
   "outputs": [
    {
     "data": {
      "application/vnd.google.colaboratory.intrinsic+json": {
       "type": "string"
      },
      "text/plain": [
       "'LA'"
      ]
     },
     "execution_count": 18,
     "metadata": {},
     "output_type": "execute_result"
    }
   ],
   "source": [
    "Protein_seq1[1:(5+1):3]"
   ]
  },
  {
   "cell_type": "code",
   "execution_count": null,
   "metadata": {
    "colab": {
     "base_uri": "https://localhost:8080/",
     "height": 35
    },
    "executionInfo": {
     "elapsed": 24,
     "status": "ok",
     "timestamp": 1746340826503,
     "user": {
      "displayName": "Damani Mohammed taqi",
      "userId": "09070127203467176729"
     },
     "user_tz": -330
    },
    "id": "a2HuHYDeBfJq",
    "outputId": "b7c9ca42-4a39-4698-a132-bb106ee7bcec"
   },
   "outputs": [
    {
     "data": {
      "application/vnd.google.colaboratory.intrinsic+json": {
       "type": "string"
      },
      "text/plain": [
       "'VLSPAD'"
      ]
     },
     "execution_count": 19,
     "metadata": {},
     "output_type": "execute_result"
    }
   ],
   "source": [
    "Protein_seq1[:(5+1)]"
   ]
  },
  {
   "cell_type": "code",
   "execution_count": null,
   "metadata": {
    "colab": {
     "base_uri": "https://localhost:8080/",
     "height": 35
    },
    "executionInfo": {
     "elapsed": 8,
     "status": "ok",
     "timestamp": 1746340894642,
     "user": {
      "displayName": "Damani Mohammed taqi",
      "userId": "09070127203467176729"
     },
     "user_tz": -330
    },
    "id": "cN16QPpgBr5_",
    "outputId": "ee946aa8-5994-4af0-fade-ad3a2ac808a4"
   },
   "outputs": [
    {
     "data": {
      "application/vnd.google.colaboratory.intrinsic+json": {
       "type": "string"
      },
      "text/plain": [
       "'KTNVK'"
      ]
     },
     "execution_count": 21,
     "metadata": {},
     "output_type": "execute_result"
    }
   ],
   "source": [
    "Protein_seq1[(5+1):]"
   ]
  },
  {
   "cell_type": "code",
   "execution_count": 11,
   "metadata": {
    "colab": {
     "base_uri": "https://localhost:8080/",
     "height": 35
    },
    "executionInfo": {
     "elapsed": 36,
     "status": "ok",
     "timestamp": 1746340923388,
     "user": {
      "displayName": "Damani Mohammed taqi",
      "userId": "09070127203467176729"
     },
     "user_tz": -330
    },
    "id": "p-2H-_plB3n4",
    "outputId": "19ad41ae-9501-4f38-a81e-04e8e32e14a3"
   },
   "outputs": [
    {
     "data": {
      "text/plain": [
       "'SPADKTNVK'"
      ]
     },
     "execution_count": 11,
     "metadata": {},
     "output_type": "execute_result"
    }
   ],
   "source": [
    "Protein_seq1[2:]\n",
    "\n",
    "# Protein_seq1[:] = Protein_seq1"
   ]
  },
  {
   "cell_type": "code",
   "execution_count": null,
   "metadata": {
    "colab": {
     "base_uri": "https://localhost:8080/",
     "height": 35
    },
    "executionInfo": {
     "elapsed": 30,
     "status": "ok",
     "timestamp": 1746341133737,
     "user": {
      "displayName": "Damani Mohammed taqi",
      "userId": "09070127203467176729"
     },
     "user_tz": -330
    },
    "id": "rdf7bR48Ag9K",
    "outputId": "1ceefbd1-8dec-42a9-c488-f3f2f6a79e6e"
   },
   "outputs": [
    {
     "data": {
      "application/vnd.google.colaboratory.intrinsic+json": {
       "type": "string"
      },
      "text/plain": [
       "'KVNTKDAPSLV'"
      ]
     },
     "execution_count": 23,
     "metadata": {},
     "output_type": "execute_result"
    }
   ],
   "source": [
    "# Flippin Sequence horizontally\n",
    "\n",
    "Protein_seq1 = 'VLSPADKTNVK'\n",
    "Protein_seq1[::-1]\n"
   ]
  },
  {
   "cell_type": "code",
   "execution_count": null,
   "metadata": {
    "colab": {
     "base_uri": "https://localhost:8080/",
     "height": 35
    },
    "executionInfo": {
     "elapsed": 10,
     "status": "ok",
     "timestamp": 1746341275843,
     "user": {
      "displayName": "Damani Mohammed taqi",
      "userId": "09070127203467176729"
     },
     "user_tz": -330
    },
    "id": "cPHNaew6Cvvk",
    "outputId": "cbd06137-542c-4d4f-c1f9-f69e13fe2ec2"
   },
   "outputs": [
    {
     "data": {
      "application/vnd.google.colaboratory.intrinsic+json": {
       "type": "string"
      },
      "text/plain": [
       "'AATCGTTGGC'"
      ]
     },
     "execution_count": 25,
     "metadata": {},
     "output_type": "execute_result"
    }
   ],
   "source": [
    "# Concatenation\n",
    "\n",
    "DNA_fragment1 = 'AATCG'\n",
    "DNA_fragment2 = 'TTGGC'\n",
    "\n",
    "Full_DNA_seq = DNA_fragment1 + DNA_fragment2\n",
    "Full_DNA_seq"
   ]
  },
  {
   "cell_type": "code",
   "execution_count": null,
   "metadata": {
    "colab": {
     "base_uri": "https://localhost:8080/",
     "height": 35
    },
    "executionInfo": {
     "elapsed": 10,
     "status": "ok",
     "timestamp": 1746341898873,
     "user": {
      "displayName": "Damani Mohammed taqi",
      "userId": "09070127203467176729"
     },
     "user_tz": -330
    },
    "id": "Yj1pcWVUDAUC",
    "outputId": "06d1af7e-456a-458a-b61c-69ed56037fd1"
   },
   "outputs": [
    {
     "data": {
      "application/vnd.google.colaboratory.intrinsic+json": {
       "type": "string"
      },
      "text/plain": [
       "'(GGGCC)4'"
      ]
     },
     "execution_count": 30,
     "metadata": {},
     "output_type": "execute_result"
    }
   ],
   "source": [
    "# Concatenating a string and a integer\n",
    "# Repeat disorder. ALS. (GGGCC)4\n",
    "\n",
    "repeat_sequence = 'GGGCC'\n",
    "repeat_length = 4\n",
    "\n",
    "Actual_repeat_sequence = '(' + repeat_sequence + ')' + str(repeat_length)\n",
    "Actual_repeat_sequence\n"
   ]
  },
  {
   "cell_type": "code",
   "execution_count": null,
   "metadata": {
    "colab": {
     "base_uri": "https://localhost:8080/",
     "height": 35
    },
    "executionInfo": {
     "elapsed": 122,
     "status": "ok",
     "timestamp": 1746343948916,
     "user": {
      "displayName": "Damani Mohammed taqi",
      "userId": "09070127203467176729"
     },
     "user_tz": -330
    },
    "id": "YA3MrYkuEziN",
    "outputId": "6e42011e-bbb9-41c1-fca8-d617840051d8"
   },
   "outputs": [
    {
     "data": {
      "application/vnd.google.colaboratory.intrinsic+json": {
       "type": "string"
      },
      "text/plain": [
       "'(GGGCC) 4'"
      ]
     },
     "execution_count": 31,
     "metadata": {},
     "output_type": "execute_result"
    }
   ],
   "source": [
    "#Concatenating String: Second approach\n",
    "#string should be in curly bracket\n",
    "\n",
    "Actual_repeat_sequence = f\"({repeat_sequence}) {str(repeat_length)}\"\n",
    "Actual_repeat_sequence"
   ]
  },
  {
   "cell_type": "markdown",
   "metadata": {
    "id": "Eke1nTEnPeKL"
   },
   "source": [
    "# Case Change in Python\n"
   ]
  },
  {
   "cell_type": "code",
   "execution_count": 12,
   "metadata": {
    "id": "YHGjaD9PNfBs"
   },
   "outputs": [],
   "source": [
    "DNA_upper = 'ATTGGCCCG'\n",
    "DNA_lower = 'attggca'"
   ]
  },
  {
   "cell_type": "code",
   "execution_count": 13,
   "metadata": {
    "colab": {
     "base_uri": "https://localhost:8080/"
    },
    "executionInfo": {
     "elapsed": 16,
     "status": "ok",
     "timestamp": 1746345155654,
     "user": {
      "displayName": "Damani Mohammed taqi",
      "userId": "09070127203467176729"
     },
     "user_tz": -330
    },
    "id": "Ywf5GzEyP0Il",
    "outputId": "59f482d9-0724-4139-e75e-850d2d7452e2"
   },
   "outputs": [
    {
     "name": "stdout",
     "output_type": "stream",
     "text": [
      "DNA_upper is 'ATTGGCCCG' and after applying .lower method() it became 'attggcccg'\n"
     ]
    }
   ],
   "source": [
    "#. lower()\n",
    "DNA_upper_to_lower = DNA_upper.lower()\n",
    "print(f\"DNA_upper is '{DNA_upper}' and after applying .lower method() it became '{DNA_upper_to_lower}'\")"
   ]
  },
  {
   "cell_type": "code",
   "execution_count": 14,
   "metadata": {
    "colab": {
     "base_uri": "https://localhost:8080/"
    },
    "executionInfo": {
     "elapsed": 14,
     "status": "ok",
     "timestamp": 1746345267176,
     "user": {
      "displayName": "Damani Mohammed taqi",
      "userId": "09070127203467176729"
     },
     "user_tz": -330
    },
    "id": "tJajKXNHRhVb",
    "outputId": "1dc136c0-a8de-4811-fc76-5f1bdacc0470"
   },
   "outputs": [
    {
     "name": "stdout",
     "output_type": "stream",
     "text": [
      "DNA_lowe is 'attggca' and after applying .upper method() it became 'ATTGGCA'\n"
     ]
    }
   ],
   "source": [
    "#. lower()\n",
    "DNA_lower_to_upper = DNA_lower.upper()\n",
    "print(f\"DNA_lowe is '{DNA_lower}' and after applying .upper method() it became '{DNA_lower_to_upper}'\")\n"
   ]
  },
  {
   "cell_type": "code",
   "execution_count": 15,
   "metadata": {
    "colab": {
     "base_uri": "https://localhost:8080/"
    },
    "executionInfo": {
     "elapsed": 9,
     "status": "ok",
     "timestamp": 1746345336836,
     "user": {
      "displayName": "Damani Mohammed taqi",
      "userId": "09070127203467176729"
     },
     "user_tz": -330
    },
    "id": "4z_13Ew5Sg4K",
    "outputId": "0e917818-e987-4a45-a66f-606dd1ecfcde"
   },
   "outputs": [
    {
     "name": "stdout",
     "output_type": "stream",
     "text": [
      "DNA_lower is \"attggca\" and after applying .upper method() it became \"ATTGGCA\"\n"
     ]
    }
   ],
   "source": [
    "print(f'DNA_lower is \"{DNA_lower}\" and after applying .upper method() it became \"{DNA_lower_to_upper}\"')\n"
   ]
  },
  {
   "cell_type": "code",
   "execution_count": 16,
   "metadata": {
    "colab": {
     "base_uri": "https://localhost:8080/"
    },
    "executionInfo": {
     "elapsed": 66,
     "status": "ok",
     "timestamp": 1746345688129,
     "user": {
      "displayName": "Damani Mohammed taqi",
      "userId": "09070127203467176729"
     },
     "user_tz": -330
    },
    "id": "CPJ54gIOSx5i",
    "outputId": "5ebb1bee-0888-40d8-fab7-0d620b5e2274"
   },
   "outputs": [
    {
     "name": "stdout",
     "output_type": "stream",
     "text": [
      "Simulation name before: molecular dynamics simulation, after applying.title(), it became: Molecular Dynamics Simulation\n"
     ]
    }
   ],
   "source": [
    "# Title Mode:   .title()\n",
    "Simulation_name = 'molecular dynamics simulation'\n",
    "Simulation_name_formatted = Simulation_name.title()\n",
    "print(f'Simulation name before: {Simulation_name}, after applying.title(), it became: {Simulation_name_formatted}')"
   ]
  },
  {
   "cell_type": "code",
   "execution_count": 17,
   "metadata": {
    "colab": {
     "base_uri": "https://localhost:8080/"
    },
    "executionInfo": {
     "elapsed": 41,
     "status": "ok",
     "timestamp": 1746345952441,
     "user": {
      "displayName": "Damani Mohammed taqi",
      "userId": "09070127203467176729"
     },
     "user_tz": -330
    },
    "id": "C2rd9o-ATdhc",
    "outputId": "94dc860f-9441-424d-ffd6-0e32a874f77d"
   },
   "outputs": [
    {
     "name": "stdout",
     "output_type": "stream",
     "text": [
      "before format: i am enjoying python programming, after applying.capitalize(), it became: I am enjoying python programming\n"
     ]
    }
   ],
   "source": [
    "# Sentence mode: # .capitalize()\n",
    "\n",
    "to_capitalize = 'i am enjoying python programming'\n",
    "to_capitalize_format = to_capitalize.capitalize()\n",
    "print(f'before format: {to_capitalize}, after applying.capitalize(), it became: {to_capitalize_format}')"
   ]
  },
  {
   "cell_type": "markdown",
   "metadata": {
    "id": "uR0XX-ZAWMIp"
   },
   "source": [
    "#REPLACE METHOD"
   ]
  },
  {
   "cell_type": "code",
   "execution_count": 18,
   "metadata": {
    "colab": {
     "base_uri": "https://localhost:8080/"
    },
    "executionInfo": {
     "elapsed": 11,
     "status": "ok",
     "timestamp": 1746346415673,
     "user": {
      "displayName": "Damani Mohammed taqi",
      "userId": "09070127203467176729"
     },
     "user_tz": -330
    },
    "id": "GRLxEvEBVlzv",
    "outputId": "73422400-156d-4e69-f72b-1f114d3f3bcc"
   },
   "outputs": [
    {
     "name": "stdout",
     "output_type": "stream",
     "text": [
      "VLSPADKTNMMMYY\n"
     ]
    }
   ],
   "source": [
    "Protein_WT = 'VLSPADKTNWWWYY'\n",
    "mutant_1 = Protein_WT.replace('W','M')\n",
    "print(mutant_1)"
   ]
  },
  {
   "cell_type": "code",
   "execution_count": 19,
   "metadata": {
    "colab": {
     "base_uri": "https://localhost:8080/"
    },
    "executionInfo": {
     "elapsed": 13,
     "status": "ok",
     "timestamp": 1746346550234,
     "user": {
      "displayName": "Damani Mohammed taqi",
      "userId": "09070127203467176729"
     },
     "user_tz": -330
    },
    "id": "sWRpvydqWyWs",
    "outputId": "bec40719-d438-48aa-d0a8-240ca5846ba7"
   },
   "outputs": [
    {
     "name": "stdout",
     "output_type": "stream",
     "text": [
      "VLSPADKTNMWWYY\n"
     ]
    }
   ],
   "source": [
    "mutant_2 = Protein_WT.replace('W','M', 1) #you can use for various position\n",
    "print(mutant_2)"
   ]
  },
  {
   "cell_type": "code",
   "execution_count": 20,
   "metadata": {
    "colab": {
     "base_uri": "https://localhost:8080/"
    },
    "executionInfo": {
     "elapsed": 32,
     "status": "ok",
     "timestamp": 1746346671314,
     "user": {
      "displayName": "Damani Mohammed taqi",
      "userId": "09070127203467176729"
     },
     "user_tz": -330
    },
    "id": "F9f8CfmkXNzS",
    "outputId": "49e90dee-8a0c-4f1e-d12a-e76f1c6f9176"
   },
   "outputs": [
    {
     "name": "stdout",
     "output_type": "stream",
     "text": [
      "I am enjoying python and i will use it to analyse biological data\n"
     ]
    }
   ],
   "source": [
    "general_example = 'I am enjoying python and i will use it to analyze biological data'\n",
    "general_example_modified = general_example.replace('analyze','analyse')\n",
    "print(general_example_modified)"
   ]
  },
  {
   "cell_type": "markdown",
   "metadata": {
    "id": "3InQnds9w-3C"
   },
   "source": [
    "## Find and Count"
   ]
  },
  {
   "cell_type": "code",
   "execution_count": 21,
   "metadata": {
    "colab": {
     "base_uri": "https://localhost:8080/"
    },
    "executionInfo": {
     "elapsed": 34,
     "status": "ok",
     "timestamp": 1746437476736,
     "user": {
      "displayName": "Damani Mohammed taqi",
      "userId": "09070127203467176729"
     },
     "user_tz": -330
    },
    "id": "6e8hDhMFxcvi",
    "outputId": "1607aa9b-a81d-4bb8-c6ac-893f658315b7"
   },
   "outputs": [
    {
     "data": {
      "text/plain": [
       "3"
      ]
     },
     "execution_count": 21,
     "metadata": {},
     "output_type": "execute_result"
    }
   ],
   "source": [
    "Protein = 'VLSPADKTNWWWYY'\n",
    "\n",
    "# .find()\n",
    "\n",
    "proline_occurence = Protein.find('P')\n",
    "proline_occurence"
   ]
  },
  {
   "cell_type": "code",
   "execution_count": 22,
   "metadata": {
    "colab": {
     "base_uri": "https://localhost:8080/"
    },
    "executionInfo": {
     "elapsed": 17,
     "status": "ok",
     "timestamp": 1746437577480,
     "user": {
      "displayName": "Damani Mohammed taqi",
      "userId": "09070127203467176729"
     },
     "user_tz": -330
    },
    "id": "fAD91TLYyB6Y",
    "outputId": "bf105e7a-fdf6-4057-d5e0-e1fb5d22250d"
   },
   "outputs": [
    {
     "data": {
      "text/plain": [
       "10"
      ]
     },
     "execution_count": 22,
     "metadata": {},
     "output_type": "execute_result"
    }
   ],
   "source": [
    "Protein = 'VLSPADKTNVWWWYY'\n",
    "\n",
    "# .find()\n",
    "\n",
    "tryptophan_occurence = Protein.find('W')\n",
    "tryptophan_occurence"
   ]
  },
  {
   "cell_type": "code",
   "execution_count": 23,
   "metadata": {
    "colab": {
     "base_uri": "https://localhost:8080/"
    },
    "executionInfo": {
     "elapsed": 57,
     "status": "ok",
     "timestamp": 1746437893953,
     "user": {
      "displayName": "Damani Mohammed taqi",
      "userId": "09070127203467176729"
     },
     "user_tz": -330
    },
    "id": "pKLNqNkyy8mL",
    "outputId": "131ff0cf-7ceb-4c3b-e71f-53e0ba66decf"
   },
   "outputs": [
    {
     "data": {
      "text/plain": [
       "3"
      ]
     },
     "execution_count": 23,
     "metadata": {},
     "output_type": "execute_result"
    }
   ],
   "source": [
    "# .count()\n",
    "tryptophan_count = Protein.count('W')\n",
    "tryptophan_count"
   ]
  },
  {
   "cell_type": "markdown",
   "metadata": {
    "id": "E54A9Chx9eDU"
   },
   "source": [
    "# Split and join"
   ]
  },
  {
   "cell_type": "code",
   "execution_count": null,
   "metadata": {
    "id": "8CqvlaouzK1A"
   },
   "outputs": [],
   "source": [
    "#.split\n",
    "string_to_split = 'Biology is interesting, I am using python to analyze biological data'"
   ]
  },
  {
   "cell_type": "code",
   "execution_count": null,
   "metadata": {
    "colab": {
     "base_uri": "https://localhost:8080/"
    },
    "executionInfo": {
     "elapsed": 23,
     "status": "ok",
     "timestamp": 1746441022218,
     "user": {
      "displayName": "Damani Mohammed taqi",
      "userId": "09070127203467176729"
     },
     "user_tz": -330
    },
    "id": "yxEdZzFd9zov",
    "outputId": "5e4bbb0a-ae1d-4d5e-8f75-a939ca4a90dd"
   },
   "outputs": [
    {
     "name": "stdout",
     "output_type": "stream",
     "text": [
      "['Biology', 'is', 'interesting,', 'I', 'am', 'using', 'python', 'to', 'analyze', 'biological', 'data']\n",
      "['Biology is interesting', ' I am using python to analyze biological data']\n"
     ]
    }
   ],
   "source": [
    "splitting_string_attempt1 = string_to_split.split()\n",
    "print(splitting_string_attempt1)\n",
    "#result will be a string format\n",
    "\n",
    "splitting_string_attempt2 = string_to_split.split(',')\n",
    "print(splitting_string_attempt2)"
   ]
  },
  {
   "cell_type": "code",
   "execution_count": null,
   "metadata": {
    "colab": {
     "base_uri": "https://localhost:8080/"
    },
    "executionInfo": {
     "elapsed": 19,
     "status": "ok",
     "timestamp": 1746441094308,
     "user": {
      "displayName": "Damani Mohammed taqi",
      "userId": "09070127203467176729"
     },
     "user_tz": -330
    },
    "id": "P3_G20KS-Au1",
    "outputId": "59c4336e-17d0-4881-9a0d-bd3bb521b0f5"
   },
   "outputs": [
    {
     "name": "stdout",
     "output_type": "stream",
     "text": [
      "Biology is interesting, I am using python to analyze biological data\n"
     ]
    }
   ],
   "source": [
    "#.join()\n",
    "\n",
    "splitting_string_attempt1_recombine = ' '.join(splitting_string_attempt1)\n",
    "print(splitting_string_attempt1_recombine)"
   ]
  },
  {
   "cell_type": "code",
   "execution_count": null,
   "metadata": {
    "colab": {
     "base_uri": "https://localhost:8080/"
    },
    "executionInfo": {
     "elapsed": 8,
     "status": "ok",
     "timestamp": 1746441559157,
     "user": {
      "displayName": "Damani Mohammed taqi",
      "userId": "09070127203467176729"
     },
     "user_tz": -330
    },
    "id": "5eoFO6LWAEKO",
    "outputId": "7dbef35a-dab7-478d-94c4-b1b7eec0164a"
   },
   "outputs": [
    {
     "name": "stdout",
     "output_type": "stream",
     "text": [
      "Biology is interesting; I am using python to analyze biological data\n"
     ]
    }
   ],
   "source": [
    "splitting_string_attempt2_recombine = ';'.join(splitting_string_attempt2)\n",
    "print(splitting_string_attempt2_recombine)\n"
   ]
  },
  {
   "cell_type": "markdown",
   "metadata": {
    "id": "HkSKNnadD4yv"
   },
   "source": [
    "## Strip method activity"
   ]
  },
  {
   "cell_type": "code",
   "execution_count": null,
   "metadata": {
    "colab": {
     "base_uri": "https://localhost:8080/"
    },
    "executionInfo": {
     "elapsed": 21,
     "status": "ok",
     "timestamp": 1746442249824,
     "user": {
      "displayName": "Damani Mohammed taqi",
      "userId": "09070127203467176729"
     },
     "user_tz": -330
    },
    "id": "LZL82ONGAq03",
    "outputId": "ac86cd8a-994a-4ea1-fd98-073775187157"
   },
   "outputs": [
    {
     "name": "stdout",
     "output_type": "stream",
     "text": [
      "Python\n",
      " Python \n"
     ]
    }
   ],
   "source": [
    "temp_1 = 'Python'\n",
    "temp_2 = \" Python \"\n",
    "print(temp_1)\n",
    "print(temp_2)"
   ]
  },
  {
   "cell_type": "code",
   "execution_count": null,
   "metadata": {
    "colab": {
     "base_uri": "https://localhost:8080/",
     "height": 35
    },
    "executionInfo": {
     "elapsed": 53,
     "status": "ok",
     "timestamp": 1746442336574,
     "user": {
      "displayName": "Damani Mohammed taqi",
      "userId": "09070127203467176729"
     },
     "user_tz": -330
    },
    "id": "35rOwNzWExwK",
    "outputId": "d10d72be-55f4-4857-f861-599eef4653a4"
   },
   "outputs": [
    {
     "data": {
      "application/vnd.google.colaboratory.intrinsic+json": {
       "type": "string"
      },
      "text/plain": [
       "'Python'"
      ]
     },
     "execution_count": 32,
     "metadata": {},
     "output_type": "execute_result"
    }
   ],
   "source": [
    "temp_1"
   ]
  },
  {
   "cell_type": "code",
   "execution_count": null,
   "metadata": {
    "colab": {
     "base_uri": "https://localhost:8080/",
     "height": 35
    },
    "executionInfo": {
     "elapsed": 9,
     "status": "ok",
     "timestamp": 1746442344305,
     "user": {
      "displayName": "Damani Mohammed taqi",
      "userId": "09070127203467176729"
     },
     "user_tz": -330
    },
    "id": "9PCLDUWVE0RN",
    "outputId": "fefc3608-fdd4-4b5b-eecc-c4028a0024dd"
   },
   "outputs": [
    {
     "data": {
      "application/vnd.google.colaboratory.intrinsic+json": {
       "type": "string"
      },
      "text/plain": [
       "' Python '"
      ]
     },
     "execution_count": 33,
     "metadata": {},
     "output_type": "execute_result"
    }
   ],
   "source": [
    "temp_2"
   ]
  },
  {
   "cell_type": "code",
   "execution_count": null,
   "metadata": {
    "colab": {
     "base_uri": "https://localhost:8080/",
     "height": 35
    },
    "executionInfo": {
     "elapsed": 8,
     "status": "ok",
     "timestamp": 1746442287977,
     "user": {
      "displayName": "Damani Mohammed taqi",
      "userId": "09070127203467176729"
     },
     "user_tz": -330
    },
    "id": "naALD99PENMz",
    "outputId": "14ab8eaf-b3f6-4942-c92e-ebd6c0cbd626"
   },
   "outputs": [
    {
     "data": {
      "application/vnd.google.colaboratory.intrinsic+json": {
       "type": "string"
      },
      "text/plain": [
       "'Python'"
      ]
     },
     "execution_count": 31,
     "metadata": {},
     "output_type": "execute_result"
    }
   ],
   "source": [
    "# replace\n",
    "temp_2.replace(\" \", '')"
   ]
  },
  {
   "cell_type": "code",
   "execution_count": null,
   "metadata": {
    "colab": {
     "base_uri": "https://localhost:8080/",
     "height": 35
    },
    "executionInfo": {
     "elapsed": 8,
     "status": "ok",
     "timestamp": 1746442783158,
     "user": {
      "displayName": "Damani Mohammed taqi",
      "userId": "09070127203467176729"
     },
     "user_tz": -330
    },
    "id": "V6Z7yNhAEaFC",
    "outputId": "aec4ef81-de61-4f67-f873-df5ed72cd685"
   },
   "outputs": [
    {
     "data": {
      "application/vnd.google.colaboratory.intrinsic+json": {
       "type": "string"
      },
      "text/plain": [
       "' Python is a cool language '"
      ]
     },
     "execution_count": 39,
     "metadata": {},
     "output_type": "execute_result"
    }
   ],
   "source": [
    "temp_2 = \" Python is a cool language \"\n",
    "temp_2"
   ]
  },
  {
   "cell_type": "code",
   "execution_count": null,
   "metadata": {
    "colab": {
     "base_uri": "https://localhost:8080/",
     "height": 35
    },
    "executionInfo": {
     "elapsed": 9,
     "status": "ok",
     "timestamp": 1746442785576,
     "user": {
      "displayName": "Damani Mohammed taqi",
      "userId": "09070127203467176729"
     },
     "user_tz": -330
    },
    "id": "GUy43mH7FGBM",
    "outputId": "45cacc0d-7ec8-4a45-d57e-863d2a6fbbef"
   },
   "outputs": [
    {
     "data": {
      "application/vnd.google.colaboratory.intrinsic+json": {
       "type": "string"
      },
      "text/plain": [
       "'Pythonisacoollanguage'"
      ]
     },
     "execution_count": 40,
     "metadata": {},
     "output_type": "execute_result"
    }
   ],
   "source": [
    "temp_2.replace(\" \", '')"
   ]
  },
  {
   "cell_type": "code",
   "execution_count": null,
   "metadata": {
    "colab": {
     "base_uri": "https://localhost:8080/",
     "height": 35
    },
    "executionInfo": {
     "elapsed": 28,
     "status": "ok",
     "timestamp": 1746442786126,
     "user": {
      "displayName": "Damani Mohammed taqi",
      "userId": "09070127203467176729"
     },
     "user_tz": -330
    },
    "id": "KMK-AmnBFNa4",
    "outputId": "a3945bee-ad3b-4398-b5f8-0a03a11fbec3"
   },
   "outputs": [
    {
     "data": {
      "application/vnd.google.colaboratory.intrinsic+json": {
       "type": "string"
      },
      "text/plain": [
       "'Python is a cool language'"
      ]
     },
     "execution_count": 41,
     "metadata": {},
     "output_type": "execute_result"
    }
   ],
   "source": [
    "# strip\n",
    "temp_2_cleaned = temp_2.strip()\n",
    "temp_2_cleaned"
   ]
  },
  {
   "cell_type": "code",
   "execution_count": null,
   "metadata": {
    "colab": {
     "base_uri": "https://localhost:8080/",
     "height": 35
    },
    "executionInfo": {
     "elapsed": 6,
     "status": "ok",
     "timestamp": 1746442786470,
     "user": {
      "displayName": "Damani Mohammed taqi",
      "userId": "09070127203467176729"
     },
     "user_tz": -330
    },
    "id": "CaQYt63FFsJn",
    "outputId": "f47bc1b0-7e61-43b0-a92b-476c7f4ed782"
   },
   "outputs": [
    {
     "data": {
      "application/vnd.google.colaboratory.intrinsic+json": {
       "type": "string"
      },
      "text/plain": [
       "' Python is a cool language'"
      ]
     },
     "execution_count": 42,
     "metadata": {},
     "output_type": "execute_result"
    }
   ],
   "source": [
    "temp_2_cleaned_r = temp_2.rstrip()\n",
    "temp_2_cleaned_r"
   ]
  },
  {
   "cell_type": "code",
   "execution_count": null,
   "metadata": {
    "colab": {
     "base_uri": "https://localhost:8080/",
     "height": 35
    },
    "executionInfo": {
     "elapsed": 8,
     "status": "ok",
     "timestamp": 1746442786792,
     "user": {
      "displayName": "Damani Mohammed taqi",
      "userId": "09070127203467176729"
     },
     "user_tz": -330
    },
    "id": "eFO4VWbJGOKN",
    "outputId": "84df0d66-e9ae-47b2-a3a7-3f555cee3de9"
   },
   "outputs": [
    {
     "data": {
      "application/vnd.google.colaboratory.intrinsic+json": {
       "type": "string"
      },
      "text/plain": [
       "'Python is a cool language '"
      ]
     },
     "execution_count": 43,
     "metadata": {},
     "output_type": "execute_result"
    }
   ],
   "source": [
    "temp_2_cleaned_l = temp_2.lstrip()\n",
    "temp_2_cleaned_l"
   ]
  },
  {
   "cell_type": "code",
   "execution_count": null,
   "metadata": {
    "colab": {
     "base_uri": "https://localhost:8080/",
     "height": 35
    },
    "executionInfo": {
     "elapsed": 18,
     "status": "ok",
     "timestamp": 1746442905879,
     "user": {
      "displayName": "Damani Mohammed taqi",
      "userId": "09070127203467176729"
     },
     "user_tz": -330
    },
    "id": "S5lOnXJ0GSrY",
    "outputId": "211f757c-5b63-47b6-b0be-391e9df60f5e"
   },
   "outputs": [
    {
     "data": {
      "application/vnd.google.colaboratory.intrinsic+json": {
       "type": "string"
      },
      "text/plain": [
       "'Python is a cool language; it is fun.'"
      ]
     },
     "execution_count": 45,
     "metadata": {},
     "output_type": "execute_result"
    }
   ],
   "source": [
    "temp_3 = \";Python is a cool language; it is fun.;\"\n",
    "temp_3.strip(';')"
   ]
  },
  {
   "cell_type": "markdown",
   "metadata": {
    "id": "PMiLu1w4Ha49"
   },
   "source": [
    "# IN CLASS ACTIVITIES"
   ]
  },
  {
   "cell_type": "markdown",
   "metadata": {
    "id": "wrAgc_NjlyWw"
   },
   "source": [
    "## Actvity 1"
   ]
  },
  {
   "cell_type": "code",
   "execution_count": 1,
   "metadata": {
    "colab": {
     "base_uri": "https://localhost:8080/",
     "height": 35
    },
    "executionInfo": {
     "elapsed": 8,
     "status": "ok",
     "timestamp": 1746535749924,
     "user": {
      "displayName": "Damani Mohammed taqi",
      "userId": "09070127203467176729"
     },
     "user_tz": -330
    },
    "id": "24LIbrJ0G7AT",
    "outputId": "4e9c3cf4-8b5b-48fc-9193-92a9a6be5a42"
   },
   "outputs": [
    {
     "data": {
      "text/plain": [
       "'GCGCATGGCCATCAAATCTATAC'"
      ]
     },
     "execution_count": 1,
     "metadata": {},
     "output_type": "execute_result"
    }
   ],
   "source": [
    "DNA = 'GTATAGATTTGATGGCCATGCGC'\n",
    "\n",
    "# 5' to 3'\n",
    "# to find complement we can aplly principle of complementation where A base pairs with T and G with C\n",
    "#after finding complement we can find reverse complement bu flipping the string horizontally\n",
    "\n",
    "seq = DNA.replace('A', 't')\n",
    "seq = seq.replace('T', 'a')\n",
    "seq = seq.replace('C', 'g')\n",
    "seq = seq.replace('G', 'c')\n",
    "\n",
    "seq = seq.upper()\n",
    "seq = seq[::-1]\n",
    "seq"
   ]
  },
  {
   "cell_type": "markdown",
   "metadata": {
    "id": "ZHSTNyIKpWIb"
   },
   "source": [
    "## Activity: 2"
   ]
  },
  {
   "cell_type": "code",
   "execution_count": 5,
   "metadata": {
    "colab": {
     "base_uri": "https://localhost:8080/"
    },
    "executionInfo": {
     "elapsed": 21,
     "status": "ok",
     "timestamp": 1746536143313,
     "user": {
      "displayName": "Damani Mohammed taqi",
      "userId": "09070127203467176729"
     },
     "user_tz": -330
    },
    "id": "8gj4XsrZo2i2",
    "outputId": "8121b098-34ca-4653-f24f-98cec58b97bc"
   },
   "outputs": [
    {
     "name": "stdout",
     "output_type": "stream",
     "text": [
      "GC_content of this DNA fragmenti is 47.83\n"
     ]
    }
   ],
   "source": [
    "count_G = DNA.count('G')\n",
    "count_C = DNA.count('C')\n",
    "\n",
    "count_GC = count_G + count_C\n",
    "total_length_DNA = len(DNA)\n",
    "\n",
    "GC_content = round((count_GC / total_length_DNA)*100, 2)\n",
    "print(f\"GC_content of this DNA fragmenti is {GC_content}\")"
   ]
  },
  {
   "cell_type": "markdown",
   "metadata": {
    "id": "mGulz4pJvxCO"
   },
   "source": [
    "# Assignment"
   ]
  },
  {
   "cell_type": "code",
   "execution_count": 7,
   "metadata": {
    "colab": {
     "base_uri": "https://localhost:8080/"
    },
    "executionInfo": {
     "elapsed": 73,
     "status": "ok",
     "timestamp": 1746537504707,
     "user": {
      "displayName": "Damani Mohammed taqi",
      "userId": "09070127203467176729"
     },
     "user_tz": -330
    },
    "id": "UgnkvAeDvz5R",
    "outputId": "7c238536-570a-416c-a86c-02ccad6d16e5"
   },
   "outputs": [
    {
     "name": "stdout",
     "output_type": "stream",
     "text": [
      "69\n",
      "ATGCGATACGTTAGCATGCTAGCTATTAGCTAGGATGCTAGCGTAGCTAACGCTAGCTAGCTAGCGATC\n"
     ]
    }
   ],
   "source": [
    "full_seq=\"ATGCGATACGTTAGCATGCTAGCTACGATCGTAGCATGCGTTAGCTAGGATGCTAGCGTAGTCTAACGATCGTTAGCTAACGCTAGCTAGCTAGCGATC\"\n",
    "exon_1 = full_seq[:25]\n",
    "exon_2 = full_seq[40:60]\n",
    "exon_3 = full_seq[75:]\n",
    "\n",
    "coding_region=exon_1+exon_2+exon_3\n",
    "print(len(coding_region))\n",
    "print(coding_region)"
   ]
  }
 ],
 "metadata": {
  "colab": {
   "authorship_tag": "ABX9TyM/0Iv5aFMp4gaKwya/L5KB",
   "collapsed_sections": [
    "nPpowXVTaBV6",
    "Eke1nTEnPeKL",
    "uR0XX-ZAWMIp",
    "E54A9Chx9eDU",
    "wrAgc_NjlyWw",
    "ZHSTNyIKpWIb",
    "mGulz4pJvxCO",
    "e-xGzIByvXyQ"
   ],
   "provenance": []
  },
  "kernelspec": {
   "display_name": "Python 3",
   "name": "python3"
  },
  "language_info": {
   "codemirror_mode": {
    "name": "ipython",
    "version": 3
   },
   "file_extension": ".py",
   "mimetype": "text/x-python",
   "name": "python",
   "nbconvert_exporter": "python",
   "pygments_lexer": "ipython3",
   "version": "3.9.6"
  }
 },
 "nbformat": 4,
 "nbformat_minor": 0
}
